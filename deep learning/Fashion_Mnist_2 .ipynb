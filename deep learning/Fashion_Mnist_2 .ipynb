{
 "cells": [
  {
   "cell_type": "markdown",
   "id": "28c6a02e-c797-4ff4-afac-7174f74f78ab",
   "metadata": {},
   "source": [
    "# packages "
   ]
  },
  {
   "cell_type": "code",
   "execution_count": 1,
   "id": "6ac64df0-64da-4669-a3fa-ab50bb72ffc4",
   "metadata": {},
   "outputs": [],
   "source": [
    "from tensorflow.keras.datasets import fashion_mnist\n",
    "from tensorflow.keras.models import Sequential \n",
    "from tensorflow.keras.layers import Dense \n",
    "from tensorflow.keras.utils import to_categorical "
   ]
  },
  {
   "cell_type": "markdown",
   "id": "f9b6ee81-5612-4911-88c9-60ca4631ec4e",
   "metadata": {},
   "source": [
    "# splitting "
   ]
  },
  {
   "cell_type": "code",
   "execution_count": 2,
   "id": "8feda119-897f-4290-8b85-912e103e75dd",
   "metadata": {},
   "outputs": [],
   "source": [
    "# splitting the data into train and test \n",
    "(X_train , Y_train) , (X_test , Y_test) = fashion_mnist.load_data()"
   ]
  },
  {
   "cell_type": "markdown",
   "id": "8a92db9c-ac1c-499d-a10e-b9dec474838a",
   "metadata": {},
   "source": [
    "# display "
   ]
  },
  {
   "cell_type": "code",
   "execution_count": 3,
   "id": "7267dc40-f3da-4b15-b241-e0015bd3b9c2",
   "metadata": {},
   "outputs": [
    {
     "data": {
      "image/png": "[encoded data removed]",
      "text/plain": [
       "<Figure size 2000x400 with 10 Axes>"
      ]
     },
     "metadata": {},
     "output_type": "display_data"
    }
   ],
   "source": [
    "# display dataset \n",
    "  #The code is using the matplotlib.pyplot library to display images from a dataset.\n",
    "import matplotlib.pyplot as plt \n",
    "\n",
    "# number of digits to display \n",
    "n = 10 \n",
    "\n",
    "# plot figure to display \n",
    "plt.figure(figsize=(20 , 4))\n",
    "# looping through \n",
    "\n",
    "for i in range(n): \n",
    "    #A subplot is created in a grid with 2 rows and \"n\" columns.\n",
    "    ax = plt.subplot(2 ,n, i+1)\n",
    "    # The image is displayed using plt.imshow().\n",
    "    plt.imshow(X_test[i].reshape(28 , 28))\n",
    "    # clr display\n",
    "    plt.gray()\n",
    "    # The x-axis and y-axis labels and ticks are hidden using \n",
    "     # ax.get_xaxis().set_visible(False) and\n",
    "     # ax.get_yaxis().set_visible(False).\n",
    "    ax.get_xaxis().set_visible(False)\n",
    "    ax.get_yaxis().set_visible(False)\n",
    "\n",
    "# show \n",
    "plt.show()\n",
    "#close \n",
    "plt.close()"
   ]
  },
  {
   "cell_type": "markdown",
   "id": "8c7e5707-4a49-4d51-9114-84b5476cb9c8",
   "metadata": {},
   "source": [
    "# falttening the images"
   ]
  },
  {
   "cell_type": "code",
   "execution_count": 4,
   "id": "65d72627-f0c6-497b-8743-dc6f3b5d44a6",
   "metadata": {},
   "outputs": [
    {
     "name": "stdout",
     "output_type": "stream",
     "text": [
      "Privious X_train (60000, 28, 28)  \n",
      " and Y_train (60000,) \n"
     ]
    },
    {
     "ename": "ValueError",
     "evalue": "cannot reshape array of size 60000 into shape (10000,784)",
     "output_type": "error",
     "traceback": [
      "\u001b[1;31m---------------------------------------------------------------------------\u001b[0m",
      "\u001b[1;31mValueError\u001b[0m                                Traceback (most recent call last)",
      "Cell \u001b[1;32mIn[4], line 5\u001b[0m\n\u001b[0;32m      3\u001b[0m \u001b[38;5;66;03m# Reshape train and test to flaten the image \u001b[39;00m\n\u001b[0;32m      4\u001b[0m X_train \u001b[38;5;241m=\u001b[39m X_train\u001b[38;5;241m.\u001b[39mreshape(\u001b[38;5;241m60000\u001b[39m , \u001b[38;5;241m784\u001b[39m)\n\u001b[1;32m----> 5\u001b[0m Y_train \u001b[38;5;241m=\u001b[39m \u001b[43mY_train\u001b[49m\u001b[38;5;241;43m.\u001b[39;49m\u001b[43mreshape\u001b[49m\u001b[43m(\u001b[49m\u001b[38;5;241;43m10000\u001b[39;49m\u001b[43m \u001b[49m\u001b[43m,\u001b[49m\u001b[43m \u001b[49m\u001b[38;5;241;43m784\u001b[39;49m\u001b[43m)\u001b[49m\n\u001b[0;32m      7\u001b[0m \u001b[38;5;66;03m# data type changing \u001b[39;00m\n\u001b[0;32m      9\u001b[0m X_train \u001b[38;5;241m=\u001b[39m X_train\u001b[38;5;241m.\u001b[39mastype(\u001b[38;5;124m\"\u001b[39m\u001b[38;5;124mfloat\u001b[39m\u001b[38;5;124m\"\u001b[39m)\n",
      "\u001b[1;31mValueError\u001b[0m: cannot reshape array of size 60000 into shape (10000,784)"
     ]
    }
   ],
   "source": [
    "print(\"Privious X_train {}  \\n and Y_train {} \".format(X_train.shape , Y_train.shape))\n",
    "\n",
    "# Reshape train and test to flaten the image \n",
    "X_train = X_train.reshape(60000 , 784)\n",
    "Y_train = Y_train.reshape(10000 , 784)\n",
    "\n",
    "# data type changing \n",
    "\n",
    "X_train = X_train.astype(\"float\")\n",
    "X_test = X_test.astype(\"float\")\n",
    "\n",
    "X_train /= 255 \n",
    "X_test /= 255 \n",
    "classes = 10\n",
    "Y_train = to_categorical(Y_train , classes)\n",
    "Y_test  = to_categorical(Y_test , classes)\n",
    "print(\"New X_train {} \\n New Y_train {}\".format(X_train.shape , Y_train.shape))\n",
    "\n"
   ]
  },
  {
   "cell_type": "markdown",
   "id": "15186671-651c-4ab2-9c2b-1160c9433bfd",
   "metadata": {},
   "source": [
    "# Hyper parameters "
   ]
  },
  {
   "cell_type": "code",
   "execution_count": null,
   "id": "166086bb-fafc-4913-9567-d412e95530d5",
   "metadata": {},
   "outputs": [],
   "source": [
    "input_size = 784 \n",
    "batch_size = 100 \n",
    "hidden1 = 400 \n",
    "hidden2 = 20 \n",
    "classes = 10 \n",
    "epochs = 500 \n"
   ]
  },
  {
   "cell_type": "markdown",
   "id": "23c27004-100d-45e1-b912-6c88a32bca83",
   "metadata": {},
   "source": [
    "# building FCN "
   ]
  },
  {
   "cell_type": "code",
   "execution_count": null,
   "id": "80cb5281-cdfb-43ad-adc9-f472f4b13c35",
   "metadata": {},
   "outputs": [],
   "source": [
    "model = Sequential()\n",
    "model.add(Dense(hidden1 ,  input_dim = input_size  , activation = \"relu \"))\n",
    "model.add(Dense(hidden2 , activation = 'relu'))\n",
    "model.add(Dense(classes , activation = 'softmax'))"
   ]
  },
  {
   "cell_type": "code",
   "execution_count": null,
   "id": "209e0c86-2e1a-4e20-8d0f-633e2368251f",
   "metadata": {},
   "outputs": [],
   "source": []
  }
 ],
 "metadata": {
  "kernelspec": {
   "display_name": "Python 3 (ipykernel)",
   "language": "python",
   "name": "python3"
  },
  "language_info": {
   "codemirror_mode": {
    "name": "ipython",
    "version": 3
   },
   "file_extension": ".py",
   "mimetype": "text/x-python",
   "name": "python",
   "nbconvert_exporter": "python",
   "pygments_lexer": "ipython3",
   "version": "3.11.4"
  },
  "widgets": {
   "application/vnd.jupyter.widget-state+json": {
    "state": {},
    "version_major": 2,
    "version_minor": 0
   }
  }
 },
 "nbformat": 4,
 "nbformat_minor": 5
}
