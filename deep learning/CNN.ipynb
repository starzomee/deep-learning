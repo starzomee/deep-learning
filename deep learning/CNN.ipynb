{
 "cells": [
  {
   "cell_type": "code",
   "execution_count": 1,
   "id": "4146e6d5-b565-4f80-9650-5ecf560cb089",
   "metadata": {},
   "outputs": [],
   "source": [
    "# importing libraries \n",
    "import numpy as np \n",
    "import pandas as pd \n",
    "import keras \n",
    "import tensorflow as tf "
   ]
  },
  {
   "cell_type": "code",
   "execution_count": 2,
   "id": "b236040c-8a87-4c04-add8-745da6897eba",
   "metadata": {},
   "outputs": [
    {
     "name": "stdout",
     "output_type": "stream",
     "text": [
      "[name: \"/device:CPU:0\"\n",
      "device_type: \"CPU\"\n",
      "memory_limit: 268435456\n",
      "locality {\n",
      "}\n",
      "incarnation: 16128821247282574309\n",
      "xla_global_id: -1\n",
      "]\n"
     ]
    }
   ],
   "source": [
    "# checking available devices \n",
    "import tensorflow as tf \n",
    "from tensorflow.python.client import device_lib \n",
    "print(device_lib.list_local_devices())"
   ]
  },
  {
   "cell_type": "code",
   "execution_count": 3,
   "id": "cf1068e0-6c37-4bc6-9a5f-97ea46f726a0",
   "metadata": {},
   "outputs": [],
   "source": [
    "# splitting dataset \n",
    "# loading dataset\n",
    "from keras.datasets import mnist \n",
    "(x_train , y_train) , (x_test , y_test) = mnist.load_data()"
   ]
  },
  {
   "cell_type": "code",
   "execution_count": 4,
   "id": "7ec2a508-7be6-4d2c-be4b-68b892ec5c3e",
   "metadata": {},
   "outputs": [
    {
     "data": {
      "image/png": "[encoded data removed]",
      "text/plain": [
       "<Figure size 2000x400 with 10 Axes>"
      ]
     },
     "metadata": {},
     "output_type": "display_data"
    }
   ],
   "source": [
    "import matplotlib.pyplot as plt\n",
    "# display the dataset\n",
    "n = 10 \n",
    "\n",
    "# create a figure  to display the image \n",
    "plt.figure(figsize=(20 ,4))\n",
    "\n",
    "# loop through the first \"n\" images \n",
    "\n",
    "for i in range(n):\n",
    "    # create a subplot within the figure \n",
    "    ax = plt.subplot(2 , n , i+1)\n",
    "    # display the original image \n",
    "    plt.imshow(x_test[i].reshape(28 , 28 ))\n",
    "     # set cmap to grayscale\n",
    "    plt.gray()\n",
    "    # hide x and y axis labels and ticks \n",
    "    ax.get_xaxis().set_visible(False)\n",
    "    ax.get_yaxis().set_visible(False)\n",
    "\n",
    "plt.show()\n",
    "\n",
    "plt.close()\n",
    "\n",
    "   \n",
    "    "
   ]
  },
  {
   "cell_type": "code",
   "execution_count": 5,
   "id": "07914d2d-93a4-476d-b6c5-57bd8c2f2c59",
   "metadata": {},
   "outputs": [
    {
     "name": "stdout",
     "output_type": "stream",
     "text": [
      "shape of x_train : (60000, 28, 28)\n",
      "shape of y_tain : (60000,)\n",
      "shape of x_test : (10000, 28, 28)\n",
      "shape of y_test : (10000,)\n"
     ]
    }
   ],
   "source": [
    "# shapes of dataset \n",
    "print(\"shape of x_train :\" , x_train.shape)\n",
    "print(\"shape of y_tain :\" , y_train.shape)\n",
    "print(\"shape of x_test :\" , x_test.shape)\n",
    "print(\"shape of y_test :\" , y_test.shape)"
   ]
  },
  {
   "cell_type": "code",
   "execution_count": 6,
   "id": "d95019ec-8e0f-4e63-9287-30741c2eba6e",
   "metadata": {},
   "outputs": [],
   "source": [
    "# reshape the data \n",
    "x_train = x_train.reshape( x_train.shape[0] , 28 , 28 , 1)\n",
    "x_test = x_test.reshape(x_test.shape[0] , 28 , 28 , 1)"
   ]
  },
  {
   "cell_type": "code",
   "execution_count": 7,
   "id": "af724b06-8aa4-4d76-9f6a-0ff9ad51497a",
   "metadata": {},
   "outputs": [],
   "source": [
    "# min max scalling \n",
    "x_train = x_train.astype(\"float32\")\n",
    "x_test = x_test.astype(\"float32\")\n",
    "x_train /= 255\n",
    "x_test /= 255"
   ]
  },
  {
   "cell_type": "code",
   "execution_count": 8,
   "id": "48653399-1f9f-4797-9f5b-ec9350772728",
   "metadata": {},
   "outputs": [
    {
     "name": "stdout",
     "output_type": "stream",
     "text": [
      "x_train shape:  (60000, 28, 28, 1)\n",
      "y_train shape:  (60000, 10)\n",
      "x_test shape:  (10000, 28, 28, 1)\n",
      "y_test shape: (10000, 10)\n"
     ]
    }
   ],
   "source": [
    "# one hot encoding \n",
    "\n",
    "from keras.utils import to_categorical \n",
    "\n",
    "y_train = to_categorical(y_train , num_classes = 10) \n",
    "y_test = to_categorical(y_test , num_classes = 10 )\n",
    "\n",
    "# seeing updated shapes \n",
    "print(\"x_train shape: \" , x_train.shape)\n",
    "print(\"y_train shape: \" , y_train.shape)\n",
    "print(\"x_test shape: \" , x_test.shape)\n",
    "print(\"y_test shape:\" , y_test.shape)"
   ]
  },
  {
   "cell_type": "code",
   "execution_count": 10,
   "id": "7c63df39-e546-480c-af71-987bd56d918e",
   "metadata": {},
   "outputs": [
    {
     "ename": "ModuleNotFoundError",
     "evalue": "No module named 'keras.layers.core'",
     "output_type": "error",
     "traceback": [
      "\u001b[1;31m---------------------------------------------------------------------------\u001b[0m",
      "\u001b[1;31mModuleNotFoundError\u001b[0m                       Traceback (most recent call last)",
      "Cell \u001b[1;32mIn[10], line 4\u001b[0m\n\u001b[0;32m      2\u001b[0m \u001b[38;5;28;01mimport\u001b[39;00m \u001b[38;5;21;01mkeras\u001b[39;00m\n\u001b[0;32m      3\u001b[0m \u001b[38;5;28;01mfrom\u001b[39;00m \u001b[38;5;21;01mkeras\u001b[39;00m\u001b[38;5;21;01m.\u001b[39;00m\u001b[38;5;21;01mmodels\u001b[39;00m \u001b[38;5;28;01mimport\u001b[39;00m Sequential\n\u001b[1;32m----> 4\u001b[0m \u001b[38;5;28;01mfrom\u001b[39;00m \u001b[38;5;21;01mkeras\u001b[39;00m\u001b[38;5;21;01m.\u001b[39;00m\u001b[38;5;21;01mlayers\u001b[39;00m\u001b[38;5;21;01m.\u001b[39;00m\u001b[38;5;21;01mcore\u001b[39;00m \u001b[38;5;28;01mimport\u001b[39;00m Dense, Flatten\n\u001b[0;32m      5\u001b[0m \u001b[38;5;28;01mfrom\u001b[39;00m \u001b[38;5;21;01mkeras\u001b[39;00m\u001b[38;5;21;01m.\u001b[39;00m\u001b[38;5;21;01mlayers\u001b[39;00m\u001b[38;5;21;01m.\u001b[39;00m\u001b[38;5;21;01mconvolutional\u001b[39;00m \u001b[38;5;28;01mimport\u001b[39;00m Conv2D, MaxPooling2D\n",
      "\u001b[1;31mModuleNotFoundError\u001b[0m: No module named 'keras.layers.core'"
     ]
    }
   ],
   "source": [
    "# building CNN \n",
    "import keras\n",
    "from keras.models import Sequential\n",
    "from keras.layers.core import Dense, Flatten\n",
    "from keras.layers.convolutional import Conv2D, MaxPooling2D\n"
   ]
  },
  {
   "cell_type": "code",
   "execution_count": null,
   "id": "900c4b5a-3414-412c-bb80-f33d81ff8962",
   "metadata": {},
   "outputs": [],
   "source": [
    "# Image_rows , image_cols , channels = 28 , 28 , 1   # 1 for greyscale images and 3 for rgb images \n",
    "\n",
    "# filters = [ 6 , 80 , 32 , 120 ] \n",
    "\n",
    "# classes = 10 \n",
    "\n",
    "# define the dimensions of the input image \n",
    "image_rows , img_cols , channels = 28 , 28 , 1  # 1 for greyscale images and 3 for rgb images  \n",
    "\n",
    "# define the num of filters for each layers of the CNN \n",
    "\n",
    "filters = [6 , 80 , 32 , 120]   # theses are the num of filters  in each CNN  layer \n",
    "\n",
    "# define the num of classes for classification \n",
    "classes = 10  # this is the num of different categories that  CNN will classify \n",
    "\n",
    "\n"
   ]
  }
 ],
 "metadata": {
  "kernelspec": {
   "display_name": "Python 3 (ipykernel)",
   "language": "python",
   "name": "python3"
  },
  "language_info": {
   "codemirror_mode": {
    "name": "ipython",
    "version": 3
   },
   "file_extension": ".py",
   "mimetype": "text/x-python",
   "name": "python",
   "nbconvert_exporter": "python",
   "pygments_lexer": "ipython3",
   "version": "3.11.4"
  },
  "widgets": {
   "application/vnd.jupyter.widget-state+json": {
    "state": {},
    "version_major": 2,
    "version_minor": 0
   }
  }
 },
 "nbformat": 4,
 "nbformat_minor": 5
}
