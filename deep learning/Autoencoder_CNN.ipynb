{
 "cells": [
  {
   "cell_type": "code",
   "execution_count": 1,
   "id": "a42707b7-ef3a-49b6-b2ff-4353cc09d9e2",
   "metadata": {},
   "outputs": [],
   "source": [
    "import tensorflow as tf\n",
    "from tensorflow.keras.datasets import mnist \n",
    "import numpy as np \n",
    "import matplotlib.pyplot as plt"
   ]
  },
  {
   "cell_type": "code",
   "execution_count": 2,
   "id": "4ce5c1f7-8e13-4aec-b80d-d600d791b23d",
   "metadata": {},
   "outputs": [],
   "source": [
    "# loading datset \n",
    "\n",
    "(x_train  , _) , (x_test , _) = mnist.load_data()"
   ]
  },
  {
   "cell_type": "code",
   "execution_count": 3,
   "id": "99c909eb-dfd6-4b38-837d-bd179e47e882",
   "metadata": {},
   "outputs": [
    {
     "data": {
      "image/png": "[encoded data removed]",
      "text/plain": [
       "<Figure size 2000x400 with 10 Axes>"
      ]
     },
     "metadata": {},
     "output_type": "display_data"
    }
   ],
   "source": [
    "# display the dataset \n",
    "\n",
    "n = 10 \n",
    "plt.figure(figsize=(20 , 4))\n",
    "for i in range(n):\n",
    "    ax = plt.subplot(1 , n , i+1)\n",
    "    plt.imshow(x_test[i].reshape(28 , 28))\n",
    "    plt.gray()\n",
    "    ax.get_xaxis().set_visible(False)\n",
    "    ax.get_yaxis().set_visible(False)\n",
    "\n",
    "plt.show()\n",
    "plt.close()"
   ]
  },
  {
   "cell_type": "code",
   "execution_count": 4,
   "id": "bcf83c74-80e7-4833-bbf8-839eabcdc4d7",
   "metadata": {},
   "outputs": [
    {
     "name": "stdout",
     "output_type": "stream",
     "text": [
      "(60000, 784)\n",
      "(10000, 784)\n"
     ]
    }
   ],
   "source": [
    "# data scalling \n",
    "\n",
    "x_train = x_train.astype('float32') / 255\n",
    "x_test = x_test.astype('float32') / 255\n",
    "x_train = x_train.reshape((len(x_train) , 28*28*1))\n",
    "x_test = x_test.reshape((len(x_test) , 28*28*1))\n",
    "print(x_train.shape)\n",
    "print(x_test.shape)"
   ]
  },
  {
   "cell_type": "markdown",
   "id": "dede3bc0-8fe5-49e9-9cd5-1a918065a040",
   "metadata": {},
   "source": [
    "# Auto Encoder using ANN"
   ]
  },
  {
   "cell_type": "code",
   "execution_count": null,
   "id": "6e9d6bcd-2a67-4462-80eb-8242b4ae089b",
   "metadata": {},
   "outputs": [],
   "source": [
    "\n"
   ]
  },
  {
   "cell_type": "markdown",
   "id": "b42f4f3c-7f97-4ffd-a9d3-3eb2324c2ed6",
   "metadata": {},
   "source": [
    "# Auto Encoder using CNN"
   ]
  },
  {
   "cell_type": "code",
   "execution_count": 5,
   "id": "bf29aba5-c8e3-488d-ada2-62c0eaa34a66",
   "metadata": {},
   "outputs": [
    {
     "ename": "ImportError",
     "evalue": "cannot import name 'Maxpooling2D' from 'tensorflow.keras.layers' (C:\\Users\\Starzomee\\AppData\\Local\\Programs\\Python\\Python311\\Lib\\site-packages\\keras\\api\\_v2\\keras\\layers\\__init__.py)",
     "output_type": "error",
     "traceback": [
      "\u001b[1;31m---------------------------------------------------------------------------\u001b[0m",
      "\u001b[1;31mImportError\u001b[0m                               Traceback (most recent call last)",
      "Cell \u001b[1;32mIn[5], line 1\u001b[0m\n\u001b[1;32m----> 1\u001b[0m \u001b[38;5;28;01mfrom\u001b[39;00m \u001b[38;5;21;01mtensorflow\u001b[39;00m\u001b[38;5;21;01m.\u001b[39;00m\u001b[38;5;21;01mkeras\u001b[39;00m\u001b[38;5;21;01m.\u001b[39;00m\u001b[38;5;21;01mlayers\u001b[39;00m \u001b[38;5;28;01mimport\u001b[39;00m Input , Conv2D , Maxpooling2D , UpSampling , Flatten \n\u001b[0;32m      2\u001b[0m \u001b[38;5;28;01mfrom\u001b[39;00m \u001b[38;5;21;01mtensorflow\u001b[39;00m\u001b[38;5;21;01m.\u001b[39;00m\u001b[38;5;21;01mkeras\u001b[39;00m\u001b[38;5;21;01m.\u001b[39;00m\u001b[38;5;21;01mmodels\u001b[39;00m \u001b[38;5;28;01mimport\u001b[39;00m Model \n",
      "\u001b[1;31mImportError\u001b[0m: cannot import name 'Maxpooling2D' from 'tensorflow.keras.layers' (C:\\Users\\Starzomee\\AppData\\Local\\Programs\\Python\\Python311\\Lib\\site-packages\\keras\\api\\_v2\\keras\\layers\\__init__.py)"
     ]
    }
   ],
   "source": [
    "from tensorflow.keras.layers import Input , Conv2D , Maxpooling2D , UpSampling , Flatten \n",
    "from tensorflow.keras.models import Model "
   ]
  },
  {
   "cell_type": "markdown",
   "id": "7302594b-56ad-47d5-b061-91e6ff6afc80",
   "metadata": {},
   "source": [
    "# Architecture of Auto Encoder "
   ]
  },
  {
   "cell_type": "code",
   "execution_count": 2,
   "id": "079e945d-fa20-41d8-aeff-f620268ed1da",
   "metadata": {},
   "outputs": [
    {
     "ename": "NameError",
     "evalue": "name 'Input' is not defined",
     "output_type": "error",
     "traceback": [
      "\u001b[1;31m---------------------------------------------------------------------------\u001b[0m",
      "\u001b[1;31mNameError\u001b[0m                                 Traceback (most recent call last)",
      "Cell \u001b[1;32mIn[2], line 1\u001b[0m\n\u001b[1;32m----> 1\u001b[0m input_layer_cnv \u001b[38;5;241m=\u001b[39m \u001b[43mInput\u001b[49m(shape \u001b[38;5;241m=\u001b[39m (\u001b[38;5;241m28\u001b[39m , \u001b[38;5;241m28\u001b[39m , \u001b[38;5;241m1\u001b[39m))\n\u001b[0;32m      2\u001b[0m \u001b[38;5;66;03m# 1.................\u001b[39;00m\n\u001b[0;32m      4\u001b[0m ae_cnv_en \u001b[38;5;241m=\u001b[39m Conv2D(\u001b[38;5;241m32\u001b[39m , (\u001b[38;5;241m3\u001b[39m,\u001b[38;5;241m3\u001b[39m) , activation \u001b[38;5;241m=\u001b[39m \u001b[38;5;124m'\u001b[39m\u001b[38;5;124mrelu\u001b[39m\u001b[38;5;124m'\u001b[39m , padding \u001b[38;5;241m=\u001b[39m \u001b[38;5;124m\"\u001b[39m\u001b[38;5;124msame\u001b[39m\u001b[38;5;124m\"\u001b[39m , kernel_intializer \u001b[38;5;241m=\u001b[39m \u001b[38;5;124m\"\u001b[39m\u001b[38;5;124mhe_normal\u001b[39m\u001b[38;5;124m\"\u001b[39m)(input_layer_cnv)\n",
      "\u001b[1;31mNameError\u001b[0m: name 'Input' is not defined"
     ]
    }
   ],
   "source": [
    "input_layer_cnv = Input(shape = (28 , 28 , 1))\n",
    "# 1.................\n",
    "\n",
    "ae_cnv_en = Conv2D(32 , (3,3) , activation = 'relu' , padding = \"same\" , kernel_intializer = \"he_normal\")(input_layer_cnv)\n",
    "ae_cnv_en = Maxpooling2D((2,2) , padding = \"same\")(ae_cnv_en) \n",
    "\n",
    "# 2...........\n",
    "\n",
    "ae_cnv_en = Conv2D(32 , (3,3) , activation = 'relu' , padding = \"same\")(ae_cnv_en)\n",
    "ae_cnv_en = Maxpooling2D((2,2) , padding = \"same\")(ae_cnv_en) \n",
    "\n",
    "# 3.............\n",
    "\n",
    "ae_cnv_en = Conv2D(4 , (3,3) , activation = 'relu' , padding = \"same\" )(ae_cnv_en)\n",
    "ae_cnv_en = Maxpooling2D((2,2) , padding = \"same\")(ae_cnv_en)\n",
    "\n",
    "# 4 .............\n",
    "\n",
    "ae_cnv_en = Flatten(name = \"bot\")(ae_cnv_en) \n",
    "\n",
    "# 1..........\n",
    "\n",
    "ae_cnv_de = Reshape((4,4,4) , input_shape = (64 , ) , name = \"botnext0\")(ae_cnv_en)\n",
    "ae_cnv_de = Conv2D (4 , (3,3) , activation = 'relu' , padding = \"same\" , name = \"botnext1\")(ae_cnv_de)\n",
    "ae_cnv_de = UpSampling2D((2,2) , name = \"botnext2\")(ae_cnv_de)\n",
    "\n",
    "# 2.............\n",
    "\n",
    "ae_cnv_de = Conv2D(32 , (3,3) , activation = 'relu' , padding = \"same\" , name = \"botnext3\")(ae_cnv_de)\n",
    "ae_cnc_en = UpSampling2D((2,2) , name = \"botnext4\")(ae_cnv_de)\n",
    "\n",
    "\n",
    "# 3 .............\n",
    "ae_cnv_de = Conv2D(32 , (3,3) , activation = 'relu' , padding = \"same \" , name = \"botnext5\" )(ae_cnv_de)\n",
    "ae_cnv_de = UpSampling2D((2,2) , name = \"botnext6\")(ae_cnv_de)\n",
    "\n",
    "\n",
    "# 4 ..............\n",
    "\n",
    "ae_cnv_de = Conv2D(1 , (3,3) , activation = \"sigmoid\" , padding = \"same\" , name = \"botnext7\")(ae_cnv_de)\n",
    "Ae_Conv = Model(inputs = input_layer_cnv , outputs = ae_cnv_de)\n",
    "\n",
    "\n",
    "\n",
    "\n",
    "Ae_Conv.compile(optimizer = tf.keras.optimizer.SGD(0.09 , CLipvalue = 2.5) , loss = 'binary_crossentropy' , metrics = [\"accuracy\"])\n",
    "# Ae_Conv.compile(optimizer = tf.keras.optimizer.SGD(0.1 , CLipvalue = 2) , loss = 'binary_crossentropy' , metrics = [\"accuracy\"]         \n",
    "                \n",
    "Ae.Conv.summary()\n",
    "\n",
    "\n",
    "\n"
   ]
  },
  {
   "cell_type": "code",
   "execution_count": null,
   "id": "9abecd13-2298-42a1-93b7-f1121a6e4b94",
   "metadata": {},
   "outputs": [],
   "source": []
  }
 ],
 "metadata": {
  "kernelspec": {
   "display_name": "Python 3 (ipykernel)",
   "language": "python",
   "name": "python3"
  },
  "language_info": {
   "codemirror_mode": {
    "name": "ipython",
    "version": 3
   },
   "file_extension": ".py",
   "mimetype": "text/x-python",
   "name": "python",
   "nbconvert_exporter": "python",
   "pygments_lexer": "ipython3",
   "version": "3.11.4"
  },
  "widgets": {
   "application/vnd.jupyter.widget-state+json": {
    "state": {},
    "version_major": 2,
    "version_minor": 0
   }
  }
 },
 "nbformat": 4,
 "nbformat_minor": 5
}
